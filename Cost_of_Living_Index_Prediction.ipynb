{
 "cells": [
  {
   "cell_type": "markdown",
   "id": "60c18f02",
   "metadata": {},
   "source": [
    "# Cost of Living Index Prediction\n",
    "\n",
    "This notebook demonstrates the process of predicting the Cost of Living Index using other indices from the dataset."
   ]
  },
  {
   "cell_type": "markdown",
   "id": "3865d637",
   "metadata": {},
   "source": [
    "## Load Dataset\n",
    "The dataset contains various indices related to the cost of living by country. I started by loading the dataset to examine its structure."
   ]
  },
  {
   "cell_type": "code",
   "execution_count": null,
   "id": "31d28788",
   "metadata": {},
   "outputs": [],
   "source": [
    "import pandas as pd\n",
    "\n",
    "# Load the dataset\n",
    "file_path = '/mnt/data/Cost_of_Living_Index_by_Country_2024.csv'\n",
    "cost_of_living_data = pd.read_csv(file_path)\n",
    "\n",
    "# Display the first few rows of the dataset\n",
    "cost_of_living_data.head()"
   ]
  },
  {
   "cell_type": "markdown",
   "id": "657208bb",
   "metadata": {},
   "source": [
    "## Data Preprocessing\n",
    "\n",
    "Select features and target variable, and split the data into training and testing sets."
   ]
  },
  {
   "cell_type": "code",
   "execution_count": null,
   "id": "ed16d267",
   "metadata": {},
   "outputs": [],
   "source": [
    "from sklearn.model_selection import train_test_split\n",
    "from sklearn.linear_model import LinearRegression\n",
    "from sklearn.metrics import mean_squared_error, r2_score\n",
    "\n",
    "# Select features and target\n",
    "X = cost_of_living_data[['Rent Index', 'Cost of Living Plus Rent Index', 'Groceries Index', 'Restaurant Price Index', 'Local Purchasing Power Index']]\n",
    "y = cost_of_living_data['Cost of Living Index']\n",
    "\n",
    "# Split the data into training and testing sets\n",
    "X_train, X_test, y_train, y_test = train_test_split(X, y, test_size=0.2, random_state=42)"
   ]
  },
  {
   "cell_type": "markdown",
   "id": "5935472e",
   "metadata": {},
   "source": [
    "## Model Training\n",
    "\n",
    "Create a linear regression model and train it using the training set."
   ]
  },
  {
   "cell_type": "code",
   "execution_count": null,
   "id": "9de6f94c",
   "metadata": {},
   "outputs": [],
   "source": [
    "# Create a linear regression model\n",
    "model = LinearRegression()\n",
    "\n",
    "# Train the model\n",
    "model.fit(X_train, y_train)"
   ]
  },
  {
   "cell_type": "markdown",
   "id": "2726bfb2",
   "metadata": {},
   "source": [
    "## Predictions and Evaluation\n",
    "\n",
    "Make predictions on the test set and evaluate the model performance."
   ]
  },
  {
   "cell_type": "code",
   "execution_count": null,
   "id": "bbcb5ce5",
   "metadata": {},
   "outputs": [],
   "source": [
    "# Make predictions\n",
    "y_pred = model.predict(X_test)\n",
    "\n",
    "# Calculate performance metrics\n",
    "mse = mean_squared_error(y_test, y_pred)\n",
    "r2 = r2_score(y_test, y_pred)\n",
    "\n",
    "mse, r2"
   ]
  },
  {
   "cell_type": "markdown",
   "id": "40961a78",
   "metadata": {},
   "source": [
    "## Results\n",
    "\n",
    "The Mean Squared Error (MSE) and R-squared (R²) score are displayed below."
   ]
  },
  {
   "cell_type": "code",
   "execution_count": null,
   "id": "95a50efd",
   "metadata": {},
   "outputs": [],
   "source": [
    "mse, r2"
   ]
  }
 ],
 "metadata": {
  "language_info": {
   "name": "python"
  }
 },
 "nbformat": 4,
 "nbformat_minor": 5
}
